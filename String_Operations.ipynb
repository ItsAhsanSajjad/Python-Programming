{
  "nbformat": 4,
  "nbformat_minor": 0,
  "metadata": {
    "colab": {
      "provenance": []
    },
    "kernelspec": {
      "name": "python3",
      "display_name": "Python 3"
    },
    "language_info": {
      "name": "python"
    }
  },
  "cells": [
    {
      "cell_type": "code",
      "source": [
        "# Valid Palindrome\n",
        "# A palindrome is a string which is the same if reversed, eg civic, racecar, radar\n",
        "\n",
        "string = \"Civic\"\n",
        "\n",
        "string = str.lower(string)\n",
        "\n",
        "start=0\n",
        "end= len(string)-1\n",
        "\n",
        "isPalindrome = True\n",
        "\n",
        "while(start<=end):\n",
        "    if(string[start]!=string[end]):\n",
        "        isPalindrome = False\n",
        "\n",
        "    start+=1\n",
        "    end-=1\n",
        "\n",
        "print(isPalindrome)"
      ],
      "metadata": {
        "colab": {
          "base_uri": "https://localhost:8080/"
        },
        "id": "m9pAs8Ut3ID9",
        "outputId": "7b3e8f92-e624-4063-a193-4348d7bb4f1b"
      },
      "execution_count": 12,
      "outputs": [
        {
          "output_type": "stream",
          "name": "stdout",
          "text": [
            "True\n"
          ]
        }
      ]
    },
    {
      "cell_type": "code",
      "source": [
        "# Reverse a string\n",
        "\n",
        "string = \"Ahsan\"\n",
        "reversed_string = \"\"\n",
        "\n",
        "for char in string:\n",
        "    reversed_string = char + reversed_string\n",
        "\n",
        "print(reversed_string)"
      ],
      "metadata": {
        "colab": {
          "base_uri": "https://localhost:8080/"
        },
        "id": "KCwvke_84xJI",
        "outputId": "24d538d3-ac85-4511-f112-0210a938b5d7"
      },
      "execution_count": 15,
      "outputs": [
        {
          "output_type": "stream",
          "name": "stdout",
          "text": [
            "nashA\n"
          ]
        }
      ]
    },
    {
      "cell_type": "code",
      "source": [],
      "metadata": {
        "id": "ucL2B0co8zzk"
      },
      "execution_count": null,
      "outputs": []
    }
  ]
}