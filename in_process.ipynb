{
  "nbformat": 4,
  "nbformat_minor": 0,
  "metadata": {
    "colab": {
      "provenance": []
    },
    "kernelspec": {
      "name": "python3",
      "display_name": "Python 3"
    },
    "language_info": {
      "name": "python"
    }
  },
  "cells": [
    {
      "cell_type": "code",
      "source": [
        "def fibo(n, a=0, b=1, count=0):\n",
        "    if(count<n):\n",
        "\n",
        "        print(a)\n",
        "        c=a+b\n",
        "\n",
        "        fibo(n,b,c,count+1)\n",
        "\n",
        "fibo(10)\n",
        "\n"
      ],
      "metadata": {
        "colab": {
          "base_uri": "https://localhost:8080/"
        },
        "id": "NZnP2VFQTRZq",
        "outputId": "9f7948e1-ffaa-4f02-9ac8-41c196f9acd0"
      },
      "execution_count": null,
      "outputs": [
        {
          "output_type": "stream",
          "name": "stdout",
          "text": [
            "0\n",
            "1\n",
            "1\n",
            "2\n",
            "3\n",
            "5\n",
            "8\n",
            "13\n",
            "21\n",
            "34\n"
          ]
        }
      ]
    },
    {
      "cell_type": "code",
      "source": [
        "# in test"
      ],
      "metadata": {
        "id": "4l364C7WV1Li"
      },
      "execution_count": null,
      "outputs": []
    }
  ]
}