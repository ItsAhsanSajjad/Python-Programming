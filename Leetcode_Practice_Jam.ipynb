{
  "nbformat": 4,
  "nbformat_minor": 0,
  "metadata": {
    "colab": {
      "provenance": []
    },
    "kernelspec": {
      "name": "python3",
      "display_name": "Python 3"
    },
    "language_info": {
      "name": "python"
    }
  },
  "cells": [
    {
      "cell_type": "code",
      "execution_count": 1,
      "metadata": {
        "id": "OiDBrCuMlonS"
      },
      "outputs": [],
      "source": [
        "# Zero Based Permutation"
      ]
    },
    {
      "cell_type": "code",
      "source": [
        "nums = [0,2,1,5,3,4]\n",
        "\n",
        "ans = [0,1,2,4,5,3]"
      ],
      "metadata": {
        "id": "c8DIjHQGmD1E"
      },
      "execution_count": 19,
      "outputs": []
    },
    {
      "cell_type": "code",
      "source": [
        "a = []\n",
        "\n",
        "for i in range(len(nums)):\n",
        "    a.append(nums[nums[i]])\n",
        "\n",
        "print(a)"
      ],
      "metadata": {
        "colab": {
          "base_uri": "https://localhost:8080/"
        },
        "id": "OTlBqg17qYjv",
        "outputId": "ecaad167-b7b5-43d5-978b-38f44b12b371"
      },
      "execution_count": 20,
      "outputs": [
        {
          "output_type": "stream",
          "name": "stdout",
          "text": [
            "[0, 1, 2, 4, 5, 3]\n"
          ]
        }
      ]
    },
    {
      "cell_type": "code",
      "source": [
        "# Concatenation of Array"
      ],
      "metadata": {
        "id": "TUxFg6I5nJ7K"
      },
      "execution_count": 10,
      "outputs": []
    },
    {
      "cell_type": "code",
      "source": [
        "nums = [1, 2, 3]\n",
        "\n",
        "ans = [1, 2, 3, 1, 2, 3]"
      ],
      "metadata": {
        "id": "ivnbMnWBsZbr"
      },
      "execution_count": 11,
      "outputs": []
    },
    {
      "cell_type": "code",
      "source": [
        "print(nums+nums)"
      ],
      "metadata": {
        "colab": {
          "base_uri": "https://localhost:8080/"
        },
        "id": "E94FPpEFsrCu",
        "outputId": "33a4225f-87db-49e6-ffd0-945d26e2b781"
      },
      "execution_count": 12,
      "outputs": [
        {
          "output_type": "stream",
          "name": "stdout",
          "text": [
            "[1, 2, 3, 1, 2, 3]\n"
          ]
        }
      ]
    },
    {
      "cell_type": "code",
      "source": [
        "# Sum of 1D array"
      ],
      "metadata": {
        "id": "w69hgyU3s2sq"
      },
      "execution_count": 13,
      "outputs": []
    },
    {
      "cell_type": "code",
      "source": [
        "nums=[1,2,3,4]\n",
        "ans=[1,3,6,10]"
      ],
      "metadata": {
        "id": "JtrorjD5tQNT"
      },
      "execution_count": 14,
      "outputs": []
    },
    {
      "cell_type": "code",
      "source": [
        "for i in range(1, len(nums)):\n",
        "    nums[i] = nums[i-1]+nums[i]\n",
        "\n",
        "print(nums)"
      ],
      "metadata": {
        "colab": {
          "base_uri": "https://localhost:8080/"
        },
        "id": "-E3FucZctcQx",
        "outputId": "91f79c76-27c5-43fb-c2ad-e8542f61fdbf"
      },
      "execution_count": 15,
      "outputs": [
        {
          "output_type": "stream",
          "name": "stdout",
          "text": [
            "[1, 3, 6, 10]\n"
          ]
        }
      ]
    },
    {
      "cell_type": "code",
      "source": [
        "# Richest customer wealth"
      ],
      "metadata": {
        "id": "AXfJvponu7FS"
      },
      "execution_count": 16,
      "outputs": []
    },
    {
      "cell_type": "code",
      "source": [
        "accounts = [[1, 2, 3], [2, 3, 6], [3, 2, 1]]"
      ],
      "metadata": {
        "id": "oe6QwrVAwI0d"
      },
      "execution_count": 17,
      "outputs": []
    },
    {
      "cell_type": "code",
      "source": [
        "print(accounts[0][0])"
      ],
      "metadata": {
        "colab": {
          "base_uri": "https://localhost:8080/"
        },
        "id": "eFrNxVgTz95u",
        "outputId": "32876d77-ac9e-497b-9f33-8b634bb3b395"
      },
      "execution_count": 24,
      "outputs": [
        {
          "output_type": "stream",
          "name": "stdout",
          "text": [
            "1\n"
          ]
        }
      ]
    },
    {
      "cell_type": "code",
      "source": [
        "ans = accounts[0][0]\n",
        "\n",
        "for i in range(len(accounts)):\n",
        "    count=0\n",
        "    for j in range(len(accounts[i])):\n",
        "        count+=accounts[i][j]\n",
        "\n",
        "    if(count > ans):\n",
        "        ans = count"
      ],
      "metadata": {
        "id": "NxhCHaiyw4GC"
      },
      "execution_count": 27,
      "outputs": []
    },
    {
      "cell_type": "code",
      "source": [
        "print(ans)"
      ],
      "metadata": {
        "colab": {
          "base_uri": "https://localhost:8080/"
        },
        "id": "mVN106iRx3It",
        "outputId": "41b79e44-2c66-4ea7-cf1d-43f420007dac"
      },
      "execution_count": 28,
      "outputs": [
        {
          "output_type": "stream",
          "name": "stdout",
          "text": [
            "11\n"
          ]
        }
      ]
    },
    {
      "cell_type": "code",
      "source": [
        "# Shuffle the array\n",
        "\n",
        "nums = [2,5,1,3,4,7]\n",
        "n = 3"
      ],
      "metadata": {
        "id": "dpZxdBqB00OU"
      },
      "execution_count": 35,
      "outputs": []
    },
    {
      "cell_type": "code",
      "source": [
        "a = []\n",
        "b = []\n",
        "\n",
        "for i in range(n):\n",
        "    a.append(nums[i])\n",
        "\n",
        "for i in range(n, len(nums)):\n",
        "    b.append(nums[i])\n",
        "\n",
        "ans = []\n",
        "\n",
        "for i in range(len(a)):\n",
        "    ans.append(a[i])\n",
        "    ans.append(b[i])\n",
        "\n",
        "print(ans)"
      ],
      "metadata": {
        "colab": {
          "base_uri": "https://localhost:8080/"
        },
        "id": "fR5VojtQ5N6a",
        "outputId": "9622ee88-45dc-4427-f96e-c850bc27b493"
      },
      "execution_count": 38,
      "outputs": [
        {
          "output_type": "stream",
          "name": "stdout",
          "text": [
            "[2, 3, 5, 4, 1, 7]\n"
          ]
        }
      ]
    },
    {
      "cell_type": "code",
      "source": [
        "#smaller than current number"
      ],
      "metadata": {
        "id": "CEITqfVJ6ciz"
      },
      "execution_count": 1,
      "outputs": []
    },
    {
      "cell_type": "code",
      "source": [
        "nums = [8,1,2,2,3]\n",
        "\n",
        "smaller=[]\n",
        "\n",
        "for i in nums:\n",
        "    count=0\n",
        "    for j in nums:\n",
        "        if(j<i):\n",
        "            count+=1\n",
        "    smaller.append(count)\n",
        "\n",
        "print(smaller)\n"
      ],
      "metadata": {
        "colab": {
          "base_uri": "https://localhost:8080/"
        },
        "id": "VRfMyMmkrq0j",
        "outputId": "556d717b-067b-4a84-a750-3dc94186e3b7"
      },
      "execution_count": 5,
      "outputs": [
        {
          "output_type": "stream",
          "name": "stdout",
          "text": [
            "[4, 0, 1, 1, 3]\n"
          ]
        }
      ]
    },
    {
      "cell_type": "code",
      "source": [
        "#Extra candies"
      ],
      "metadata": {
        "id": "jt26ze1RsQAP"
      },
      "execution_count": 1,
      "outputs": []
    },
    {
      "cell_type": "code",
      "source": [
        "candies = [2,3,5,1,3]\n",
        "extraCandies = 3\n",
        "\n",
        "# Find Max\n",
        "max=candies[0]\n",
        "\n",
        "for i in candies:\n",
        "    if(i > max):\n",
        "        max = i\n",
        "\n",
        "# Compare\n",
        "ans = []\n",
        "\n",
        "for j in candies:\n",
        "    ans.append(j+extraCandies>=max)\n",
        "\n",
        "print(ans)"
      ],
      "metadata": {
        "colab": {
          "base_uri": "https://localhost:8080/"
        },
        "id": "GaizqORhcHQD",
        "outputId": "c485a5e7-780f-4618-a6a9-259f0312ca6a"
      },
      "execution_count": 13,
      "outputs": [
        {
          "output_type": "stream",
          "name": "stdout",
          "text": [
            "[True, True, True, False, True]\n"
          ]
        }
      ]
    },
    {
      "cell_type": "code",
      "source": [
        "# Number of Good pairs"
      ],
      "metadata": {
        "id": "20g8sL3wgGjH"
      },
      "execution_count": 14,
      "outputs": []
    },
    {
      "cell_type": "code",
      "source": [
        "nums = [1,2,3,1,1,3]\n",
        "\n",
        "count = 0\n",
        "\n",
        "for i in range(len(nums)):\n",
        "    for j in range(i+1, len(nums)):\n",
        "        if(nums[i]==nums[j]):\n",
        "            count+=1\n",
        "\n",
        "print(count)"
      ],
      "metadata": {
        "colab": {
          "base_uri": "https://localhost:8080/"
        },
        "id": "StjtVkBhmAsU",
        "outputId": "16a40fd6-a519-42ab-b1b2-6b6f5ea77aa4"
      },
      "execution_count": 20,
      "outputs": [
        {
          "output_type": "stream",
          "name": "stdout",
          "text": [
            "4\n"
          ]
        }
      ]
    },
    {
      "cell_type": "code",
      "source": [
        "# Create target array"
      ],
      "metadata": {
        "id": "ezFaBDTKneOs"
      },
      "execution_count": 21,
      "outputs": []
    },
    {
      "cell_type": "code",
      "source": [
        "nums = [0,1,2,3,4]\n",
        "index = [0,1,2,2,1]\n",
        "\n",
        "target = []\n",
        "\n",
        "for i in range(len(nums)):\n",
        "    target.insert(index[i], nums[i])\n",
        "\n",
        "print(target)"
      ],
      "metadata": {
        "colab": {
          "base_uri": "https://localhost:8080/"
        },
        "id": "DM5K5PnarcF2",
        "outputId": "4adbba01-a854-437b-8c94-b79cc296a70a"
      },
      "execution_count": 22,
      "outputs": [
        {
          "output_type": "stream",
          "name": "stdout",
          "text": [
            "[0, 4, 1, 3, 2]\n"
          ]
        }
      ]
    },
    {
      "cell_type": "code",
      "source": [
        "# Pangram is a sentence which contains every letter of english language"
      ],
      "metadata": {
        "id": "RYLdejbxrzH9"
      },
      "execution_count": 26,
      "outputs": []
    },
    {
      "cell_type": "code",
      "source": [
        "sentence = \"thequickbrownfoxjumpsoverthelazydog\"\n",
        "\n",
        "alphabets = \"abcdefghijklmnopqrstuvwxyz\"\n",
        "\n",
        "condition=True\n",
        "\n",
        "for i in alphabets:\n",
        "    if i not in sentence:\n",
        "        condition = False\n",
        "        break\n",
        "\n",
        "print(condition)"
      ],
      "metadata": {
        "colab": {
          "base_uri": "https://localhost:8080/"
        },
        "id": "Ezpdgc5dsGBG",
        "outputId": "ff237db1-123e-49c0-dd43-9be877fd12f4"
      },
      "execution_count": 31,
      "outputs": [
        {
          "output_type": "stream",
          "name": "stdout",
          "text": [
            "True\n"
          ]
        }
      ]
    },
    {
      "cell_type": "code",
      "source": [
        "# Items matching a rule"
      ],
      "metadata": {
        "id": "HePN2mcFtq8A"
      },
      "execution_count": null,
      "outputs": []
    },
    {
      "cell_type": "code",
      "source": [
        "# Type, color, name\n",
        "\n",
        "items = [[\"phone\",\"blue\",\"pixel\"],[\"computer\",\"silver\",\"lenovo\"],[\"phone\",\"gold\",\"iphone\"]]\n",
        "\n",
        "ruleKey = \"color\"\n",
        "ruleValue = \"blue\"\n",
        "\n",
        "count = 0\n",
        "for i in items:\n",
        "    if(ruleKey==\"type\"):\n",
        "        if(i[0] == ruleValue):\n",
        "            count+=1\n",
        "\n",
        "    if(ruleKey==\"color\"):\n",
        "        if(i[1] == ruleValue):\n",
        "            count+=1\n",
        "\n",
        "    if(ruleKey==\"name\"):\n",
        "        if(i[2] == ruleValue):\n",
        "            count+=1\n",
        "\n",
        "print(count)"
      ],
      "metadata": {
        "colab": {
          "base_uri": "https://localhost:8080/"
        },
        "id": "bsGh1F6gzEy8",
        "outputId": "214d11ba-61f8-4ef5-88dc-e9cc48faeb06"
      },
      "execution_count": 1,
      "outputs": [
        {
          "output_type": "stream",
          "name": "stdout",
          "text": [
            "1\n"
          ]
        }
      ]
    },
    {
      "cell_type": "code",
      "source": [
        "# two sum"
      ],
      "metadata": {
        "id": "MkP7q6bD1LG8"
      },
      "execution_count": 7,
      "outputs": []
    },
    {
      "cell_type": "code",
      "source": [
        "nums = [2,7,11,15]\n",
        "target = 17\n",
        "for i in range(len(nums)):\n",
        "    for j in range(1,len(nums)):\n",
        "        if(nums[i]+nums[j]==target):\n",
        "            print([i,j])"
      ],
      "metadata": {
        "colab": {
          "base_uri": "https://localhost:8080/"
        },
        "id": "Q8GsiYNezc6Q",
        "outputId": "7f1bf308-0d5d-4043-ddc0-28f0b2f8f17f"
      },
      "execution_count": 16,
      "outputs": [
        {
          "output_type": "stream",
          "name": "stdout",
          "text": [
            "[0, 3]\n"
          ]
        }
      ]
    },
    {
      "cell_type": "code",
      "source": [
        "# Find max altitude"
      ],
      "metadata": {
        "id": "UNFJ_iHLz0j9"
      },
      "execution_count": 2,
      "outputs": []
    },
    {
      "cell_type": "code",
      "source": [
        "gain = [-4,-3,-2,-1,4,3,2]\n",
        "\n",
        "max_altitude=0\n",
        "current_altitude=0\n",
        "\n",
        "for gain_altitude in gain:\n",
        "    current_altitude+=gain_altitude\n",
        "    max_altitude = max(current_altitude, max_altitude)\n",
        "\n",
        "print(max_altitude)"
      ],
      "metadata": {
        "colab": {
          "base_uri": "https://localhost:8080/"
        },
        "id": "H_LOENxC1j8f",
        "outputId": "a0b9c352-c69f-4173-ca36-dcd2b36d91b0"
      },
      "execution_count": 5,
      "outputs": [
        {
          "output_type": "stream",
          "name": "stdout",
          "text": [
            "0\n"
          ]
        }
      ]
    },
    {
      "cell_type": "code",
      "source": [
        "# Flipping the Image"
      ],
      "metadata": {
        "id": "YWuPkaiO2xoy"
      },
      "execution_count": 6,
      "outputs": []
    },
    {
      "cell_type": "code",
      "source": [
        "image = [[1,1,0],[1,0,1],[0,0,0]]\n",
        "\n",
        "output = [[1,0,0],[0,1,0],[1,1,1]]"
      ],
      "metadata": {
        "id": "xCqFWDv23kMO"
      },
      "execution_count": 37,
      "outputs": []
    },
    {
      "cell_type": "code",
      "source": [
        "for i in range(len(image)):\n",
        "    for j in range(len(image[i])):\n",
        "        # Invert\n",
        "        if(image[i][j]==1):\n",
        "            image[i][j]=0\n",
        "        else:\n",
        "            image[i][j]=1\n",
        "\n",
        "# Reverse\n",
        "for i in range(len(image)):\n",
        "    s = 0\n",
        "    e = len(image[i]) - 1\n",
        "    while s <= e:\n",
        "        image[i][s], image[i][e] = image[i][e], image[i][s]\n",
        "        s += 1\n",
        "        e -= 1"
      ],
      "metadata": {
        "id": "q3gVY_Xe6Vco"
      },
      "execution_count": 39,
      "outputs": []
    },
    {
      "cell_type": "code",
      "source": [
        "print(image)"
      ],
      "metadata": {
        "colab": {
          "base_uri": "https://localhost:8080/"
        },
        "id": "czisLeT67Wb6",
        "outputId": "2cbb1e9b-8b21-401b-bca8-5be828a81695"
      },
      "execution_count": 40,
      "outputs": [
        {
          "output_type": "stream",
          "name": "stdout",
          "text": [
            "[[0, 1, 1], [0, 1, 0], [1, 1, 1]]\n"
          ]
        }
      ]
    },
    {
      "cell_type": "code",
      "source": [
        "# Number with even number of digits"
      ],
      "metadata": {
        "id": "Oa4brIgv9ryd"
      },
      "execution_count": 41,
      "outputs": []
    },
    {
      "cell_type": "code",
      "source": [
        "nums = [12,345,2,6,7896]"
      ],
      "metadata": {
        "id": "_ETwh6X1CMp9"
      },
      "execution_count": 42,
      "outputs": []
    },
    {
      "cell_type": "code",
      "source": [
        "even_numbers = 0\n",
        "\n",
        "for i in range(len(nums)):\n",
        "    a = nums[i]\n",
        "\n",
        "    count = 0\n",
        "    while(a != 0):\n",
        "        a = a//10\n",
        "        count+=1\n",
        "    if(count%2 == 0):\n",
        "        even_numbers+=1\n",
        "\n",
        "print(even_numbers)"
      ],
      "metadata": {
        "colab": {
          "base_uri": "https://localhost:8080/"
        },
        "id": "JWEeuqefDrCC",
        "outputId": "57d28409-192d-43e5-9e9d-85ab53b1a2ce"
      },
      "execution_count": 50,
      "outputs": [
        {
          "output_type": "stream",
          "name": "stdout",
          "text": [
            "2\n"
          ]
        }
      ]
    },
    {
      "cell_type": "code",
      "source": [
        "# Plus One"
      ],
      "metadata": {
        "id": "47nQbYNiCvXj"
      },
      "execution_count": 51,
      "outputs": []
    },
    {
      "cell_type": "code",
      "source": [
        "digits = [1,2,3,9]\n",
        "\n",
        "output = [1, 2, 4]"
      ],
      "metadata": {
        "id": "lhZo4XFFE_Ur"
      },
      "execution_count": 26,
      "outputs": []
    },
    {
      "cell_type": "code",
      "source": [
        "# Convert array to number\n",
        "number = 0\n",
        "for digit in digits:\n",
        "    number = number * 10 + digit\n",
        "\n",
        "# Increment number by one\n",
        "number+=1\n",
        "\n",
        "# Convert number to ans array\n",
        "ans = []\n",
        "while number > 0:\n",
        "    digit = number % 10\n",
        "    ans.insert(0, digit)\n",
        "    number = number // 10\n",
        "\n",
        "print(ans)"
      ],
      "metadata": {
        "colab": {
          "base_uri": "https://localhost:8080/"
        },
        "id": "tNglJ--Mn4cl",
        "outputId": "c94019e9-1cd4-4f5b-e11e-20dd4940567a"
      },
      "execution_count": 29,
      "outputs": [
        {
          "output_type": "stream",
          "name": "stdout",
          "text": [
            "1240\n",
            "[1, 2, 4, 0]\n"
          ]
        }
      ]
    },
    {
      "cell_type": "code",
      "source": [
        "# Cells with odd values\n",
        "\n",
        "m = 2\n",
        "n = 3\n",
        "indices = [[0,1],[1,1]]"
      ],
      "metadata": {
        "id": "RMHGDu0Hp9fX"
      },
      "execution_count": 33,
      "outputs": []
    },
    {
      "cell_type": "code",
      "source": [
        "matrix = [[0] * n for _ in range(m)]\n",
        "\n",
        "for index in indices:\n",
        "    row, col = index[0], index[1]\n",
        "\n",
        "    matrix[row] = [x + 1 for x in matrix[row]]\n",
        "\n",
        "    for i in range(m):\n",
        "        matrix[i][col] += 1\n",
        "\n",
        "# count = sum(cell % 2 == 1 for row in matrix for cell in row)\n",
        "count = 0\n",
        "for i in range(len(matrix)):\n",
        "    for j in range(len(matrix[i])):\n",
        "        if(matrix[i][j]%2 == 1):\n",
        "            count+=1\n",
        "\n",
        "print(count)"
      ],
      "metadata": {
        "colab": {
          "base_uri": "https://localhost:8080/"
        },
        "id": "yDYWsetgyYdq",
        "outputId": "45db52a8-fd29-4f00-f2fd-7f4cacc7296f"
      },
      "execution_count": 41,
      "outputs": [
        {
          "output_type": "stream",
          "name": "stdout",
          "text": [
            "6\n"
          ]
        }
      ]
    },
    {
      "cell_type": "code",
      "source": [
        "# Matrix diagonal sum\n",
        "\n",
        "# All elements in a square matrix where column and row indices are equal are on diagonal"
      ],
      "metadata": {
        "id": "0742OAHX4gHj"
      },
      "execution_count": 6,
      "outputs": []
    },
    {
      "cell_type": "code",
      "source": [
        "mat = [[5]]"
      ],
      "metadata": {
        "id": "tpho75AnlXJn"
      },
      "execution_count": 20,
      "outputs": []
    },
    {
      "cell_type": "code",
      "source": [
        "count = 0\n",
        "for i in range(len(mat)):\n",
        "    for j in range(len(mat[i])):\n",
        "        if(i==j):\n",
        "            count+=mat[i][j]\n",
        "\n",
        "for i in range(len(mat)):\n",
        "    for j in range(len(mat[i])):\n",
        "        if(i+j == len(mat)-1):\n",
        "            count+=mat[i][j]\n",
        "\n",
        "if(len(mat)%2 != 0):\n",
        "    count = count - mat[len(mat)//2][len(mat)//2]\n",
        "\n",
        "\n",
        "print(count)"
      ],
      "metadata": {
        "colab": {
          "base_uri": "https://localhost:8080/"
        },
        "id": "S52G7-CzhCeN",
        "outputId": "d2d36391-6af1-42da-e054-f017c9ed77da"
      },
      "execution_count": 21,
      "outputs": [
        {
          "output_type": "stream",
          "name": "stdout",
          "text": [
            "5\n"
          ]
        }
      ]
    },
    {
      "cell_type": "code",
      "source": [
        "sum=0\n",
        "for i in range(len(mat)):\n",
        "    for j in range(len(mat[i])):\n",
        "        if(i==j):\n",
        "            sum+=mat[i][j]\n",
        "\n",
        "for i in range(len(mat)):\n",
        "    for j in range(len(mat[i])):\n",
        "        if(i+j==len(mat)-1):\n",
        "            sum+=mat[i][j]\n",
        "\n",
        "if(len(mat)%2!=0):\n",
        "    sum-=mat[len(mat)//2][len(mat)//2]\n",
        "\n",
        "print(sum)"
      ],
      "metadata": {
        "colab": {
          "base_uri": "https://localhost:8080/"
        },
        "id": "YdUBBYM6nbyI",
        "outputId": "eee7dd27-a2e5-47e6-fccb-e3f5b76d7bee"
      },
      "execution_count": 32,
      "outputs": [
        {
          "output_type": "stream",
          "name": "stdout",
          "text": [
            "8\n"
          ]
        }
      ]
    },
    {
      "cell_type": "code",
      "source": [
        "#transpose of a matrix"
      ],
      "metadata": {
        "id": "dhmrmgQinbvX"
      },
      "execution_count": 33,
      "outputs": []
    },
    {
      "cell_type": "code",
      "source": [
        "matrix = [[1,2,3], [4,5,6]]"
      ],
      "metadata": {
        "id": "OgdxKLqZnbtI"
      },
      "execution_count": 53,
      "outputs": []
    },
    {
      "cell_type": "code",
      "source": [
        "ans = [[0] * len(matrix) for _ in range(len(matrix[0]))]\n",
        "\n",
        "for i in range(len(matrix)):\n",
        "    for j in range(len(matrix[i])):\n",
        "        ans[j][i] = matrix[i][j]\n",
        "\n",
        "print(ans)"
      ],
      "metadata": {
        "colab": {
          "base_uri": "https://localhost:8080/"
        },
        "id": "DMgjz7--nbqt",
        "outputId": "f789c677-6d52-43eb-8f06-c9e2f35504c9"
      },
      "execution_count": 54,
      "outputs": [
        {
          "output_type": "stream",
          "name": "stdout",
          "text": [
            "[[1, 4], [2, 5], [3, 6]]\n"
          ]
        }
      ]
    },
    {
      "cell_type": "code",
      "source": [
        "# Add to array form of number"
      ],
      "metadata": {
        "id": "zYdGXd3t11vH"
      },
      "execution_count": null,
      "outputs": []
    },
    {
      "cell_type": "code",
      "source": [
        "num = [1,2,0,0]\n",
        "k = 34"
      ],
      "metadata": {
        "id": "joeOXFTK1-0V"
      },
      "execution_count": 55,
      "outputs": []
    },
    {
      "cell_type": "code",
      "source": [
        "# Convert array to number\n",
        "number = 0\n",
        "for digit in num:\n",
        "    number = number * 10 + digit\n",
        "\n",
        "# Increment number by one\n",
        "number+=k\n",
        "\n",
        "# Convert number to ans array\n",
        "ans = []\n",
        "while number > 0:\n",
        "    digit = number % 10\n",
        "    ans.insert(0, digit)\n",
        "    number = number // 10\n",
        "\n",
        "print(ans)"
      ],
      "metadata": {
        "colab": {
          "base_uri": "https://localhost:8080/"
        },
        "id": "2uXgjtMt0b0Y",
        "outputId": "56ff0a7e-8391-4a4a-fc8b-af78d002ab03"
      },
      "execution_count": 57,
      "outputs": [
        {
          "output_type": "stream",
          "name": "stdout",
          "text": [
            "[1, 2, 3, 4]\n"
          ]
        }
      ]
    },
    {
      "cell_type": "code",
      "source": [
        "15425//10"
      ],
      "metadata": {
        "colab": {
          "base_uri": "https://localhost:8080/"
        },
        "id": "X10RooG-3vnO",
        "outputId": "72819526-29ca-4801-a80e-696f42e8f7cb"
      },
      "execution_count": 70,
      "outputs": [
        {
          "output_type": "execute_result",
          "data": {
            "text/plain": [
              "1542"
            ]
          },
          "metadata": {},
          "execution_count": 70
        }
      ]
    },
    {
      "cell_type": "code",
      "source": [],
      "metadata": {
        "id": "Zs7lV2LZ4KUL"
      },
      "execution_count": null,
      "outputs": []
    }
  ]
}