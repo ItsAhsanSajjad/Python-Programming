{
  "nbformat": 4,
  "nbformat_minor": 0,
  "metadata": {
    "colab": {
      "provenance": []
    },
    "kernelspec": {
      "name": "python3",
      "display_name": "Python 3"
    },
    "language_info": {
      "name": "python"
    }
  },
  "cells": [
    {
      "cell_type": "code",
      "execution_count": 1,
      "metadata": {
        "id": "OiDBrCuMlonS"
      },
      "outputs": [],
      "source": [
        "# Zero Based Permutation"
      ]
    },
    {
      "cell_type": "code",
      "source": [
        "nums = [0,2,1,5,3,4]\n",
        "\n",
        "ans = [0,1,2,4,5,3]"
      ],
      "metadata": {
        "id": "c8DIjHQGmD1E"
      },
      "execution_count": 2,
      "outputs": []
    },
    {
      "cell_type": "code",
      "source": [
        "a = []\n",
        "\n",
        "for i in range(len(nums)):\n",
        "    a.append(nums[nums[i]])\n",
        "\n",
        "print(a)"
      ],
      "metadata": {
        "colab": {
          "base_uri": "https://localhost:8080/"
        },
        "id": "OTlBqg17qYjv",
        "outputId": "d5a4c1b6-6efa-4087-e42d-06b7e67815ed"
      },
      "execution_count": 9,
      "outputs": [
        {
          "output_type": "stream",
          "name": "stdout",
          "text": [
            "[0, 1, 2, 4, 5, 3]\n"
          ]
        }
      ]
    },
    {
      "cell_type": "code",
      "source": [
        "# Concatenation of Array"
      ],
      "metadata": {
        "id": "TUxFg6I5nJ7K"
      },
      "execution_count": 10,
      "outputs": []
    },
    {
      "cell_type": "code",
      "source": [
        "nums = [1, 2, 3]\n",
        "\n",
        "ans = [1, 2, 3, 1, 2, 3]"
      ],
      "metadata": {
        "id": "ivnbMnWBsZbr"
      },
      "execution_count": 11,
      "outputs": []
    },
    {
      "cell_type": "code",
      "source": [
        "print(nums+nums)"
      ],
      "metadata": {
        "colab": {
          "base_uri": "https://localhost:8080/"
        },
        "id": "E94FPpEFsrCu",
        "outputId": "33a4225f-87db-49e6-ffd0-945d26e2b781"
      },
      "execution_count": 12,
      "outputs": [
        {
          "output_type": "stream",
          "name": "stdout",
          "text": [
            "[1, 2, 3, 1, 2, 3]\n"
          ]
        }
      ]
    },
    {
      "cell_type": "code",
      "source": [
        "# Sum of 1D array"
      ],
      "metadata": {
        "id": "w69hgyU3s2sq"
      },
      "execution_count": 13,
      "outputs": []
    },
    {
      "cell_type": "code",
      "source": [
        "nums=[1,2,3,4]\n",
        "ans=[1,3,6,10]"
      ],
      "metadata": {
        "id": "JtrorjD5tQNT"
      },
      "execution_count": 14,
      "outputs": []
    },
    {
      "cell_type": "code",
      "source": [
        "for i in range(1, len(nums)):\n",
        "    nums[i] = nums[i-1]+nums[i]\n",
        "\n",
        "print(nums)"
      ],
      "metadata": {
        "colab": {
          "base_uri": "https://localhost:8080/"
        },
        "id": "-E3FucZctcQx",
        "outputId": "91f79c76-27c5-43fb-c2ad-e8542f61fdbf"
      },
      "execution_count": 15,
      "outputs": [
        {
          "output_type": "stream",
          "name": "stdout",
          "text": [
            "[1, 3, 6, 10]\n"
          ]
        }
      ]
    },
    {
      "cell_type": "code",
      "source": [
        "# Richest customer wealth"
      ],
      "metadata": {
        "id": "AXfJvponu7FS"
      },
      "execution_count": 16,
      "outputs": []
    },
    {
      "cell_type": "code",
      "source": [
        "accounts = [[1, 2, 3], [2, 3, 6], [3, 2, 1]]"
      ],
      "metadata": {
        "id": "oe6QwrVAwI0d"
      },
      "execution_count": 17,
      "outputs": []
    },
    {
      "cell_type": "code",
      "source": [
        "print(accounts[0][0])"
      ],
      "metadata": {
        "id": "eFrNxVgTz95u",
        "outputId": "32876d77-ac9e-497b-9f33-8b634bb3b395",
        "colab": {
          "base_uri": "https://localhost:8080/"
        }
      },
      "execution_count": 24,
      "outputs": [
        {
          "output_type": "stream",
          "name": "stdout",
          "text": [
            "1\n"
          ]
        }
      ]
    },
    {
      "cell_type": "code",
      "source": [
        "ans = accounts[0][0]\n",
        "\n",
        "for i in range(len(accounts)):\n",
        "    count=0\n",
        "    for j in range(len(accounts[i])):\n",
        "        count+=accounts[i][j]\n",
        "\n",
        "    if(count > ans):\n",
        "        ans = count"
      ],
      "metadata": {
        "id": "NxhCHaiyw4GC"
      },
      "execution_count": 27,
      "outputs": []
    },
    {
      "cell_type": "code",
      "source": [
        "print(ans)"
      ],
      "metadata": {
        "id": "mVN106iRx3It",
        "outputId": "41b79e44-2c66-4ea7-cf1d-43f420007dac",
        "colab": {
          "base_uri": "https://localhost:8080/"
        }
      },
      "execution_count": 28,
      "outputs": [
        {
          "output_type": "stream",
          "name": "stdout",
          "text": [
            "11\n"
          ]
        }
      ]
    },
    {
      "cell_type": "code",
      "source": [
        "# Shuffle the array\n",
        "\n",
        "nums = [2,5,1,3,4,7]\n",
        "n = 3"
      ],
      "metadata": {
        "id": "dpZxdBqB00OU"
      },
      "execution_count": 35,
      "outputs": []
    },
    {
      "cell_type": "code",
      "source": [
        "a = []\n",
        "b = []\n",
        "\n",
        "for i in range(n):\n",
        "    a.append(nums[i])\n",
        "\n",
        "for i in range(n, len(nums)):\n",
        "    b.append(nums[i])\n",
        "\n",
        "ans = []\n",
        "\n",
        "for i in range(len(a)):\n",
        "    ans.append(a[i])\n",
        "    ans.append(b[i])\n",
        "\n",
        "print(ans)"
      ],
      "metadata": {
        "id": "fR5VojtQ5N6a",
        "outputId": "9622ee88-45dc-4427-f96e-c850bc27b493",
        "colab": {
          "base_uri": "https://localhost:8080/"
        }
      },
      "execution_count": 38,
      "outputs": [
        {
          "output_type": "stream",
          "name": "stdout",
          "text": [
            "[2, 3, 5, 4, 1, 7]\n"
          ]
        }
      ]
    },
    {
      "cell_type": "code",
      "source": [],
      "metadata": {
        "id": "CEITqfVJ6ciz"
      },
      "execution_count": null,
      "outputs": []
    }
  ]
}