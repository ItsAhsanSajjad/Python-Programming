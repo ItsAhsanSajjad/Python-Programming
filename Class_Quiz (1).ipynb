{
  "nbformat": 4,
  "nbformat_minor": 0,
  "metadata": {
    "colab": {
      "provenance": []
    },
    "kernelspec": {
      "name": "python3",
      "display_name": "Python 3"
    },
    "language_info": {
      "name": "python"
    }
  },
  "cells": [
    {
      "cell_type": "code",
      "source": [
        "def program():\n",
        "    # Ask credentials\n",
        "    name = input(\"Please enter your name: \")\n",
        "    roll_no = input(\"Please enter your roll number: \")\n",
        "\n",
        "    print(\"Welcome\", name, \"Type the right option for the questions below!!!\")\n",
        "\n",
        "    # Score\n",
        "    score = 0\n",
        "    rights = 0\n",
        "\n",
        "    # Evaluate Answer\n",
        "    def evaluate(ans, true):\n",
        "        nonlocal score  # Declare score as nonlocal\n",
        "        nonlocal rights  # Declare rights as nonlocal\n",
        "\n",
        "        if(ans == true):\n",
        "            score+=5\n",
        "            rights+=1\n",
        "        else:\n",
        "            if(score < 0):\n",
        "                score-=1\n",
        "\n",
        "    # Q1\n",
        "    q1=int(input(\"pakistan kb bana? 1. 1953, 2. 1723, 3. 1374, 4. 1947 :\"))\n",
        "    evaluate(q1, 4)\n",
        "\n",
        "    # Q2\n",
        "    q2=int(input(\"first PM of pk 1. Imran Khan , 2. Quaid Azam , 3. Liaqat Khan, 4. Nawaz Shareef :\"))\n",
        "    evaluate(q2, 3)\n",
        "\n",
        "    # Q3\n",
        "    q3=int(input(\"current President of pk 1. Imran Khan , 2. Quaid Azam , 3. Arif alvi, 4. Nawaz Shareef :\"))\n",
        "    evaluate(q3, 3)\n",
        "\n",
        "    #Q4\n",
        "    q4=int(input(\"goat of cricket 1. Imran Khan , 2. Babar Azam , 3. Yousaf , 4. Kohli :\"))\n",
        "    evaluate(q4, 4)\n",
        "\n",
        "    #Q5\n",
        "    q5=int(input(\"goat of football 1. Ronaldo , 2. haland , 3. messi , 4. mbappe :\"))\n",
        "    evaluate(q5, 3)\n",
        "\n",
        "    # Q1\n",
        "    q1=int(input(\"pakistan kb bana? 1. 1953, 2. 1723, 3. 1374, 4. 1947 :\"))\n",
        "    evaluate(q1, 4)\n",
        "\n",
        "    # Q2\n",
        "    q2=int(input(\"first PM of pk 1. Imran Khan , 2. Quaid Azam , 3. Liaqat Khan, 4. Nawaz Shareef :\"))\n",
        "    evaluate(q2, 3)\n",
        "\n",
        "    # Q3\n",
        "    q3=int(input(\"current President of pk 1. Imran Khan , 2. Quaid Azam , 3. Arif alvi, 4. Nawaz Shareef :\"))\n",
        "    evaluate(q3, 3)\n",
        "\n",
        "    #Q4\n",
        "    q4=int(input(\"goat of cricket 1. Imran Khan , 2. Babar Azam , 3. Yousaf , 4. Kohli :\"))\n",
        "    evaluate(q4, 4)\n",
        "\n",
        "    #Q5\n",
        "    q5=int(input(\"goat of football 1. Ronaldo , 2. haland , 3. messi , 4. mbappe :\"))\n",
        "    evaluate(q5, 3)\n",
        "\n",
        "    # Calculate percenatge\n",
        "    percentage=(score/50)*100\n",
        "\n",
        "    # Grade and remakrs\n",
        "    grade = \"\"\n",
        "    remarks = \"\"\n",
        "\n",
        "    if percentage>=85:\n",
        "        grade = \"A\"\n",
        "        remarks = \"Excellent\"\n",
        "    elif 75 <= percentage <= 85:\n",
        "        grade = \"B\"\n",
        "        remarks = \"Good\"\n",
        "    else:\n",
        "        grade = \"C\"\n",
        "        remarks = \"Poor\"\n",
        "\n",
        "\n",
        "    # The print out the report card which includes name, roll no, right answers, percentage, grade and remarks\n",
        "    print(\"\")\n",
        "    print(\"Thank You!\", name, \"Your Roll No Is\", roll_no)\n",
        "    print(\"you attempted\", rights, \"correct answers out of 10 and your score is\", score)\n",
        "    print(\"your perecentage is \", percentage, \"% and your grade is\", grade)\n",
        "    print(remarks)\n"
      ],
      "metadata": {
        "id": "NZnP2VFQTRZq"
      },
      "execution_count": 16,
      "outputs": []
    },
    {
      "cell_type": "code",
      "source": [
        "program()"
      ],
      "metadata": {
        "id": "4l364C7WV1Li",
        "colab": {
          "base_uri": "https://localhost:8080/"
        },
        "outputId": "7bb3a4f4-2a1b-46da-bcbf-ba8a6ae10317"
      },
      "execution_count": 18,
      "outputs": [
        {
          "output_type": "stream",
          "name": "stdout",
          "text": [
            "Please enter your name: Ahsan\n",
            "Please enter your roll number: 12323\n",
            "Welcome Ahsan Type the right option for the questions below!!!\n",
            "pakistan kb bana? 1. 1953, 2. 1723, 3. 1374, 4. 1947 :1\n",
            "first PM of pk 1. Imran Khan , 2. Quaid Azam , 3. Liaqat Khan, 4. Nawaz Shareef :1\n",
            "current President of pk 1. Imran Khan , 2. Quaid Azam , 3. Arif alvi, 4. Nawaz Shareef :2\n",
            "goat of cricket 1. Imran Khan , 2. Babar Azam , 3. Yousaf , 4. Kohli :3\n",
            "goat of football 1. Ronaldo , 2. haland , 3. messi , 4. mbappe :1\n",
            "pakistan kb bana? 1. 1953, 2. 1723, 3. 1374, 4. 1947 :1\n",
            "first PM of pk 1. Imran Khan , 2. Quaid Azam , 3. Liaqat Khan, 4. Nawaz Shareef :1\n",
            "current President of pk 1. Imran Khan , 2. Quaid Azam , 3. Arif alvi, 4. Nawaz Shareef :1\n",
            "goat of cricket 1. Imran Khan , 2. Babar Azam , 3. Yousaf , 4. Kohli :1\n",
            "goat of football 1. Ronaldo , 2. haland , 3. messi , 4. mbappe :1\n",
            "\n",
            "Thank You! Ahsan Your Roll No Is 12323\n",
            "you attempted 0 correct answers out of 10 and your score is 0\n",
            "your perecentage is  0.0 % and your grade is C\n",
            "Poor\n"
          ]
        }
      ]
    },
    {
      "cell_type": "code",
      "source": [],
      "metadata": {
        "id": "1WwcR2vF0Ggn"
      },
      "execution_count": null,
      "outputs": []
    }
  ]
}