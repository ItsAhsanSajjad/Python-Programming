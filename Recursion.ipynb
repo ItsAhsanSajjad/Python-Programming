{
  "nbformat": 4,
  "nbformat_minor": 0,
  "metadata": {
    "colab": {
      "provenance": []
    },
    "kernelspec": {
      "name": "python3",
      "display_name": "Python 3"
    },
    "language_info": {
      "name": "python"
    }
  },
  "cells": [
    {
      "cell_type": "code",
      "execution_count": 1,
      "metadata": {
        "id": "ah1FBUBRPo3j"
      },
      "outputs": [],
      "source": [
        "# A recursive function is a function that calls itself"
      ]
    },
    {
      "cell_type": "code",
      "source": [
        "# Recursive function to print numbers from 0 to 10 or 10 to 0\n",
        "\n",
        "def rec(num):\n",
        "    if(num==11):\n",
        "        return\n",
        "\n",
        "    print(num)\n",
        "    rec(num+1)    #if you write this block above the print statement it will print nums in reverse\n",
        "\n",
        "rec(0)"
      ],
      "metadata": {
        "colab": {
          "base_uri": "https://localhost:8080/"
        },
        "id": "qeNJwKfhPz3U",
        "outputId": "77b0f23f-6b7a-4d76-da4e-8fa1084ab350"
      },
      "execution_count": 4,
      "outputs": [
        {
          "output_type": "stream",
          "name": "stdout",
          "text": [
            "0\n",
            "1\n",
            "2\n",
            "3\n",
            "4\n",
            "5\n",
            "6\n",
            "7\n",
            "8\n",
            "9\n",
            "10\n"
          ]
        }
      ]
    },
    {
      "cell_type": "code",
      "source": [
        "# Print a table using recursion\n",
        "\n",
        "def table(num, count=1):\n",
        "    if(count==11):\n",
        "        return\n",
        "\n",
        "    # 2 X 2 = 4\n",
        "    print(num, \"X\", count, \"=\",  num*count)\n",
        "    table(num,count+1)\n",
        "\n",
        "table(4)"
      ],
      "metadata": {
        "colab": {
          "base_uri": "https://localhost:8080/"
        },
        "id": "cU8x535MQiPs",
        "outputId": "a9e19a87-bc54-45a1-9539-c63f5dc5ccb7"
      },
      "execution_count": 5,
      "outputs": [
        {
          "output_type": "stream",
          "name": "stdout",
          "text": [
            "4 X 1 = 4\n",
            "4 X 2 = 8\n",
            "4 X 3 = 12\n",
            "4 X 4 = 16\n",
            "4 X 5 = 20\n",
            "4 X 6 = 24\n",
            "4 X 7 = 28\n",
            "4 X 8 = 32\n",
            "4 X 9 = 36\n",
            "4 X 10 = 40\n"
          ]
        }
      ]
    },
    {
      "cell_type": "code",
      "source": [
        "# A recursive function to print factorial of a number\n",
        "\n",
        "def factorial(num,count=1):\n",
        "    if (num == 0):\n",
        "        print(count)\n",
        "        return\n",
        "\n",
        "    count = num*count   # Can also be written as  count*=num\n",
        "    factorial(num-1, count)\n",
        "\n",
        "factorial(5)"
      ],
      "metadata": {
        "colab": {
          "base_uri": "https://localhost:8080/"
        },
        "id": "9Kux8HkuSD2G",
        "outputId": "6382208b-3b74-4795-b2f6-a9af9b7d4bfc"
      },
      "execution_count": 9,
      "outputs": [
        {
          "output_type": "stream",
          "name": "stdout",
          "text": [
            "120\n"
          ]
        }
      ]
    },
    {
      "cell_type": "code",
      "source": [
        "# A better way to get factorial using recursion\n",
        "\n",
        "def fac(num):\n",
        "    if(num==0):\n",
        "        return 1\n",
        "\n",
        "    return num * fac(num-1)\n",
        "\n",
        "fac(5)"
      ],
      "metadata": {
        "colab": {
          "base_uri": "https://localhost:8080/"
        },
        "id": "K8h9gZ-NS9Rl",
        "outputId": "65702c7f-22ab-4881-cbec-3a40a9242865"
      },
      "execution_count": 13,
      "outputs": [
        {
          "output_type": "execute_result",
          "data": {
            "text/plain": [
              "120"
            ]
          },
          "metadata": {},
          "execution_count": 13
        }
      ]
    },
    {
      "cell_type": "code",
      "source": [
        "# Print fibonacci sequence using recursion  0, 1, 1, 2, 3, 5, 8, 13, 21\n",
        "\n",
        "def fibonacci(n, a=0, b=1, count=0):\n",
        "    if count < n:\n",
        "        print(a)\n",
        "        c = a + b\n",
        "        fibonacci(n, b, c, count + 1)\n",
        "\n",
        "fibonacci(5)"
      ],
      "metadata": {
        "colab": {
          "base_uri": "https://localhost:8080/"
        },
        "id": "uSnGMFphWm3g",
        "outputId": "c783a6a3-37b0-4566-b0ba-3e0d3c0ddcc1"
      },
      "execution_count": 27,
      "outputs": [
        {
          "output_type": "stream",
          "name": "stdout",
          "text": [
            "0\n",
            "1\n",
            "1\n",
            "2\n",
            "3\n"
          ]
        }
      ]
    },
    {
      "cell_type": "code",
      "source": [],
      "metadata": {
        "id": "0wjqbPR1YGo3"
      },
      "execution_count": null,
      "outputs": []
    }
  ]
}