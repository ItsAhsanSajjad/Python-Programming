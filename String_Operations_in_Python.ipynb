{
  "nbformat": 4,
  "nbformat_minor": 0,
  "metadata": {
    "colab": {
      "provenance": []
    },
    "kernelspec": {
      "name": "python3",
      "display_name": "Python 3"
    },
    "language_info": {
      "name": "python"
    }
  },
  "cells": [
    {
      "cell_type": "code",
      "source": [
        "## some common string operations in Python along with code examples:"
      ],
      "metadata": {
        "id": "vGPf3O_NXsWc"
      },
      "execution_count": null,
      "outputs": []
    },
    {
      "cell_type": "markdown",
      "source": [
        "Concatenation:\n",
        "You can combine two or more strings using the + operator."
      ],
      "metadata": {
        "id": "RO10Opy2XyK8"
      }
    },
    {
      "cell_type": "code",
      "source": [
        "str1 = \"Hello, \"\n",
        "str2 = \"world!\"\n",
        "result = str1 + str2\n",
        "print(result)  # Output: \"Hello, world!\""
      ],
      "metadata": {
        "id": "3EYw8yS2X146"
      },
      "execution_count": null,
      "outputs": []
    },
    {
      "cell_type": "markdown",
      "source": [
        "String Length:\n",
        "You can find the length of a string using the len() function."
      ],
      "metadata": {
        "id": "h9t56euXYFos"
      }
    },
    {
      "cell_type": "code",
      "source": [
        "text = \"Python is fun!\"\n",
        "length = len(text)\n",
        "print(length)  # Output: 14\n"
      ],
      "metadata": {
        "id": "1WwcR2vF0Ggn"
      },
      "execution_count": null,
      "outputs": []
    },
    {
      "cell_type": "markdown",
      "source": [
        "Substring Extraction:\n",
        "You can extract a portion of a string using slicing."
      ],
      "metadata": {
        "id": "jwFFfP4_YMI2"
      }
    },
    {
      "cell_type": "code",
      "source": [
        "text = \"Python is easy\"\n",
        "substring = text[7:9]\n",
        "print(substring)  # Output: \"is\"\n"
      ],
      "metadata": {
        "id": "l4rWFCFVYQ8P"
      },
      "execution_count": null,
      "outputs": []
    },
    {
      "cell_type": "markdown",
      "source": [
        "String Splitting:\n",
        "You can split a string into a list of substrings based on a delimiter."
      ],
      "metadata": {
        "id": "QHiKs6dFYTlM"
      }
    },
    {
      "cell_type": "code",
      "source": [
        "sentence = \"Python is versatile\"\n",
        "words = sentence.split()\n",
        "print(words)  # Output: ['Python', 'is', 'versatile']\n"
      ],
      "metadata": {
        "id": "o-E-kGSlYW6x"
      },
      "execution_count": null,
      "outputs": []
    },
    {
      "cell_type": "markdown",
      "source": [
        "String Formatting:\n",
        "You can format strings using f-strings or the str.format() method."
      ],
      "metadata": {
        "id": "aaM8yTu9YaJP"
      }
    },
    {
      "cell_type": "code",
      "source": [
        "name = \"Alice\"\n",
        "age = 30\n",
        "message = f\"My name is {name} and I'm {age} years old.\"\n",
        "print(message)  # Output: \"My name is Alice and I'm 30 years old.\"\n"
      ],
      "metadata": {
        "id": "PnWNOhocYdYr"
      },
      "execution_count": null,
      "outputs": []
    },
    {
      "cell_type": "markdown",
      "source": [
        "String Searching:\n",
        "You can check if a substring exists in a string using the in operator."
      ],
      "metadata": {
        "id": "6AxRPvXdYfSX"
      }
    },
    {
      "cell_type": "code",
      "source": [
        "text = \"Python is powerful\"\n",
        "if \"is\" in text:\n",
        "    print(\"Substring found!\")\n"
      ],
      "metadata": {
        "id": "eRArdOhrYiN7"
      },
      "execution_count": null,
      "outputs": []
    },
    {
      "cell_type": "markdown",
      "source": [
        "String Replacement:\n",
        "You can replace substrings in a string using the str.replace() method."
      ],
      "metadata": {
        "id": "_Mtz_bvKYoIy"
      }
    },
    {
      "cell_type": "code",
      "source": [
        "text = \"Python is amazing\"\n",
        "new_text = text.replace(\"amazing\", \"awesome\")\n",
        "print(new_text)  # Output: \"Python is awesome\"\n"
      ],
      "metadata": {
        "id": "QTazByImYoy-"
      },
      "execution_count": null,
      "outputs": []
    },
    {
      "cell_type": "markdown",
      "source": [
        "String Case Conversion:\n",
        "You can change the case of a string using methods like str.upper() and str.lower()."
      ],
      "metadata": {
        "id": "fI66K9wWYqq0"
      }
    },
    {
      "cell_type": "code",
      "source": [
        "text = \"Python Programming\"\n",
        "uppercase_text = text.upper()\n",
        "lowercase_text = text.lower()\n",
        "print(uppercase_text)  # Output: \"PYTHON PROGRAMMING\"\n",
        "print(lowercase_text)  # Output: \"python programming\"\n"
      ],
      "metadata": {
        "id": "v5R9iEW9YvS0"
      },
      "execution_count": null,
      "outputs": []
    },
    {
      "cell_type": "markdown",
      "source": [
        "String Stripping:\n",
        "You can remove leading and trailing whitespace using str.strip()."
      ],
      "metadata": {
        "id": "asD76PIvYxUF"
      }
    },
    {
      "cell_type": "code",
      "source": [
        "text = \"   Python   \"\n",
        "stripped_text = text.strip()\n",
        "print(stripped_text)  # Output: \"Python\"\n"
      ],
      "metadata": {
        "id": "ovwFCKDsYzsf"
      },
      "execution_count": null,
      "outputs": []
    }
  ]
}