{
  "nbformat": 4,
  "nbformat_minor": 0,
  "metadata": {
    "colab": {
      "provenance": []
    },
    "kernelspec": {
      "name": "python3",
      "display_name": "Python 3"
    },
    "language_info": {
      "name": "python"
    }
  },
  "cells": [
    {
      "cell_type": "code",
      "source": [
        "def fibo(n, a=0, b=1, count=0):\n",
        "    if(count<n):\n",
        "\n",
        "        print(a)\n",
        "        c=a+b\n",
        "\n",
        "        fibo(n,b,c,count+1)\n",
        "\n",
        "fibo(10)\n",
        "\n"
      ],
      "metadata": {
        "colab": {
          "base_uri": "https://localhost:8080/"
        },
        "id": "NZnP2VFQTRZq",
        "outputId": "9f7948e1-ffaa-4f02-9ac8-41c196f9acd0"
      },
      "execution_count": null,
      "outputs": [
        {
          "output_type": "stream",
          "name": "stdout",
          "text": [
            "0\n",
            "1\n",
            "1\n",
            "2\n",
            "3\n",
            "5\n",
            "8\n",
            "13\n",
            "21\n",
            "34\n"
          ]
        }
      ]
    },
    {
      "cell_type": "code",
      "source": [
        "# Write a program which takes username and roll no from a user and then gives a user 10 questions one by one, evaluate the answers\n",
        "# and then print out the the name, roll no, correct answers, wrong answers, percentage, grade and remarks"
      ],
      "metadata": {
        "id": "4l364C7WV1Li"
      },
      "execution_count": 1,
      "outputs": []
    },
    {
      "cell_type": "code",
      "source": [
        "# Ask the user to enter their name\n",
        "name = input(\"Please enter your name: \")\n",
        "\n",
        "# Print the user's name\n",
        "if(name == \"Ahsan\"):\n",
        "    print(\"Hello\")\n",
        "else:\n",
        "    print(\"Shut up\")"
      ],
      "metadata": {
        "colab": {
          "base_uri": "https://localhost:8080/"
        },
        "id": "Ky8hgYt_YQXR",
        "outputId": "adcbc557-2245-41f8-9f4a-641df16ae198"
      },
      "execution_count": 4,
      "outputs": [
        {
          "output_type": "stream",
          "name": "stdout",
          "text": [
            "Please enter your name: Abuzar\n",
            "Shu up\n"
          ]
        }
      ]
    },
    {
      "cell_type": "code",
      "source": [
        "def program():\n",
        "    # Ask credentials\n",
        "    name = input(\"Please enter your name: \")\n",
        "    roll_no = input(\"Please enter your roll number: \")\n",
        "\n",
        "    print(\"Welcome\", name, \"Type the right option for the questions below!!!\")\n",
        "\n",
        "    # Score\n",
        "    score = 0\n",
        "    rights = 0\n",
        "\n",
        "    # Evaluate Answer\n",
        "    def evaluate(ans, true):\n",
        "        nonlocal score  # Declare score as nonlocal\n",
        "        nonlocal rights  # Declare rights as nonlocal\n",
        "\n",
        "        if(ans == true):\n",
        "            score+=5\n",
        "            rights+=1\n",
        "        else:\n",
        "            score-=4\n",
        "\n",
        "    # Q1\n",
        "    q1=input(\"pakistan kb bana? 1. 1953, 2. 1723, 3. 1374, 4. 1947 :\")\n",
        "    evaluate(q1, 4)\n",
        "\n",
        "    # Q2\n",
        "    q2=input(\"first PM of pk 1. Imran Khan , 2. Quaid Azam , 3. Liaqat Khan, 4. Nawaz Shareef :\")\n",
        "    evaluate(q2, 3)\n",
        "\n",
        "    # Q3\n",
        "    q3=input(\"current President of pk 1. Imran Khan , 2. Quaid Azam , 3. Arif alvi, 4. Nawaz Shareef :\")\n",
        "    evaluate(q3, 3)\n",
        "\n",
        "    #Q4\n",
        "    q4=input(\"goat of cricket 1. Imran Khan , 2. Babar Azam , 3. Yousaf , 4. Kohli :\")\n",
        "    evaluate(q4, 4)\n",
        "\n",
        "    #Q5\n",
        "    q5=input(\"goat of football 1. Ronaldo , 2. haland , 3. messi , 4. mbappe :\")\n",
        "    evaluate(q5, 3)\n",
        "\n",
        "    # Q1\n",
        "    q1=input(\"pakistan kb bana? 1. 1953, 2. 1723, 3. 1374, 4. 1947 :\")\n",
        "    evaluate(q1, 4)\n",
        "\n",
        "    # Q2\n",
        "    q2=input(\"first PM of pk 1. Imran Khan , 2. Quaid Azam , 3. Liaqat Khan, 4. Nawaz Shareef :\")\n",
        "    evaluate(q2, 3)\n",
        "\n",
        "    # Q3\n",
        "    q3=input(\"current President of pk 1. Imran Khan , 2. Quaid Azam , 3. Arif alvi, 4. Nawaz Shareef :\")\n",
        "    evaluate(q3, 3)\n",
        "\n",
        "    #Q4\n",
        "    q4=input(\"goat of cricket 1. Imran Khan , 2. Babar Azam , 3. Yousaf , 4. Kohli :\")\n",
        "    evaluate(q4, 4)\n",
        "\n",
        "    #Q5\n",
        "    q5=input(\"goat of football 1. Ronaldo , 2. haland , 3. messi , 4. mbappe :\")\n",
        "    evaluate(q5, 3)\n",
        "\n",
        "    # Calculate percenatge\n",
        "    percentage=(score/50)*100\n",
        "\n",
        "    # Grade and remakrs\n",
        "    grade = \"\"\n",
        "    remarks = \"\"\n",
        "\n",
        "    if percentage>=85:\n",
        "        grade = \"A\"\n",
        "        remarks = \"Excellent\"\n",
        "    elif 75 <= percentage <= 85:\n",
        "        grade = \"B\"\n",
        "        remarks = \"Good\"\n",
        "    else:\n",
        "        grade = \"C\"\n",
        "        remarks = \"Poor\"\n",
        "\n",
        "\n",
        "    # The print out the report card which includes name, roll no, right answers, percentage, grade and remarks\n",
        "    print(\"Thank You!\", name, \"Your Roll No Is\", roll_no)\n",
        "    print(\"you attempted \", rights, \"correct answers out of 10\")\n",
        "    print(\"your perecentage is \", percentage, \"and your grade is\", grade)\n",
        "    print(remarks)"
      ],
      "metadata": {
        "id": "4VJVTInJZFS4"
      },
      "execution_count": 18,
      "outputs": []
    },
    {
      "cell_type": "code",
      "source": [
        "program()"
      ],
      "metadata": {
        "colab": {
          "base_uri": "https://localhost:8080/"
        },
        "id": "LPUGkgojabdY",
        "outputId": "712f72e3-d539-44a4-cb77-1459250bef2d"
      },
      "execution_count": 19,
      "outputs": [
        {
          "output_type": "stream",
          "name": "stdout",
          "text": [
            "Please enter your name: Ahsan\n",
            "Please enter your roll number: 1234\n",
            "Welcome Ahsan Type the right option for the questions below!!!\n",
            "pakistan kb bana? 1. 1953, 2. 1723, 3. 1374, 4. 1947 :4\n",
            "first PM of pk 1. Imran Khan , 2. Quaid Azam , 3. Liaqat Khan, 4. Nawaz Shareef :1\n",
            "current President of pk 1. Imran Khan , 2. Quaid Azam , 3. Arif alvi, 4. Nawaz Shareef :3\n",
            "goat of cricket 1. Imran Khan , 2. Babar Azam , 3. Yousaf , 4. Kohli :4\n",
            "goat of football 1. Ronaldo , 2. haland , 3. messi , 4. mbappe :1\n",
            "pakistan kb bana? 1. 1953, 2. 1723, 3. 1374, 4. 1947 :3\n",
            "first PM of pk 1. Imran Khan , 2. Quaid Azam , 3. Liaqat Khan, 4. Nawaz Shareef :2\n",
            "current President of pk 1. Imran Khan , 2. Quaid Azam , 3. Arif alvi, 4. Nawaz Shareef :3\n",
            "goat of cricket 1. Imran Khan , 2. Babar Azam , 3. Yousaf , 4. Kohli :4\n",
            "goat of football 1. Ronaldo , 2. haland , 3. messi , 4. mbappe :3\n",
            "Thank You! Ahsan Your Roll No Is 1234\n",
            "you attempted  0 correct answers out of 10\n",
            "your perecentage is  -80.0 and your grade is C\n",
            "Poor\n"
          ]
        }
      ]
    },
    {
      "cell_type": "code",
      "source": [
        "2\n",
        "22"
      ],
      "metadata": {
        "id": "gdVwTgoEan3Q"
      },
      "execution_count": null,
      "outputs": []
    }
  ]
}